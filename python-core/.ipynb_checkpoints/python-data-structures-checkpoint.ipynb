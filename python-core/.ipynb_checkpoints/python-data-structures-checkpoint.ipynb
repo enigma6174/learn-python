{
 "cells": [
  {
   "cell_type": "markdown",
   "metadata": {},
   "source": [
    "# Introduction To Python Programming : Part 2 \n",
    "<hr />"
   ]
  },
  {
   "cell_type": "markdown",
   "metadata": {},
   "source": [
    "In this section, we will be looking at the most popular in-built data structures provided by Python and how we can use them to solve all our programming challenges, build applications, work on any projects etc"
   ]
  },
  {
   "cell_type": "markdown",
   "metadata": {},
   "source": [
    "## Topics Covered\n",
    "<hr />\n",
    "\n",
    "- Lists\n",
    "    - Basics Of Lists\n",
    "    - List Manipulations\n",
    "    - List Comprehensions\n",
    "    - Advanced List Operations\n",
    "    \n",
    "- Dictionaries\n",
    "\n",
    "    - Basics Of Dictionaries\n",
    "    - Dictionary Manipulations\n",
    "\n",
    "- Sets & Tuples\n",
    "\n",
    "    - Basics Of Sets And Tuples\n",
    "    - Manipulating Sets And Tuples\n",
    "    - Differences Between Sets And Tuples\n",
    "    \n",
    "- Extras\n",
    "\n",
    "    - zip() function\n",
    "    - enumerate() function\n",
    "    - map() function\n",
    "    - Lambda function in Python"
   ]
  },
  {
   "cell_type": "markdown",
   "metadata": {},
   "source": [
    "## Lists\n",
    "<hr />"
   ]
  },
  {
   "cell_type": "markdown",
   "metadata": {},
   "source": [
    "### Basics Of List\n",
    "\n",
    "- Defining A List\n",
    "- Accessing The Elements Of List\n",
    "- Length Of The List"
   ]
  },
  {
   "cell_type": "markdown",
   "metadata": {},
   "source": [
    "#### Defining A List"
   ]
  },
  {
   "cell_type": "code",
   "execution_count": 67,
   "metadata": {},
   "outputs": [
    {
     "name": "stdout",
     "output_type": "stream",
     "text": [
      "number list\n",
      "[1, 2, 3, 10, -89, 4]\n",
      "\n",
      "string list\n",
      "['hello', 'world', 'welcome', 'to', 'Python', 'Programming']\n",
      "\n",
      "fraction list\n",
      "[6.131, 2.3141, 0.0001, 0.23411, 26771000000.0, -0.0451]\n",
      "\n",
      "mixed elements list\n",
      "[12, 1.122, 452.31, 'hello', 'world', True]\n",
      "\n"
     ]
    }
   ],
   "source": [
    "# Define different types of list\n",
    "numList = [1, 2, 3, 10, -89, 4]\n",
    "strList = [\"hello\", \"world\", \"welcome\", \"to\", \"Python\", \"Programming\"]\n",
    "frcList = [6.131, 2.3141, 0.0001, 23411e-5, 2.6771e10, -451e-4]\n",
    "mixList = [12, 1.122, 4.5231e2, \"hello\", \"world\", True]\n",
    "\n",
    "dumbList_1 = [34, 4.34e-2, True, \"hello\", \"magical world\", -91]\n",
    "dumbList_2 = [\"good\", \"boy\", 0.034115e3, -45, False, 'a']\n",
    "\n",
    "# Print the list and their types\n",
    "print(f\"number list\\n{numList}\\n\")\n",
    "print(f\"string list\\n{strList}\\n\")\n",
    "print(f\"fraction list\\n{frcList}\\n\")\n",
    "print(f\"mixed elements list\\n{mixList}\\n\")"
   ]
  },
  {
   "cell_type": "markdown",
   "metadata": {},
   "source": [
    "#### Accessing The Elements Of List"
   ]
  },
  {
   "cell_type": "code",
   "execution_count": 8,
   "metadata": {},
   "outputs": [
    {
     "name": "stdout",
     "output_type": "stream",
     "text": [
      "first element of numList[] is 1\n",
      "third element of numList[] is 3\n",
      "\n",
      "first element of strList[] from end is 'Programming'\n",
      "second last element of strList[] from end is 'Python'\n",
      "\n",
      "last element of strList[] from end is 'hello'\n",
      "second last element of strList[] from end is 'world'\n"
     ]
    }
   ],
   "source": [
    "# Accessing the individual list elements from the start\n",
    "print(f\"first element of numList[] is {numList[0]}\")\n",
    "print(f\"third element of numList[] is {numList[2]}\")\n",
    "\n",
    "print()\n",
    "\n",
    "# Acessing the individual list elements from the end\n",
    "print(f\"first element of strList[] from end is '{strList[-1]}'\")\n",
    "print(f\"second last element of strList[] from end is '{strList[-2]}'\")\n",
    "\n",
    "print()\n",
    "\n",
    "# Accessing the beginning elements of the list from the end\n",
    "print(f\"last element of strList[] from end is '{strList[-6]}'\")\n",
    "print(f\"second last element of strList[] from end is '{strList[-5]}'\")\n",
    "\n",
    "print()\n",
    "\n",
    "# Accessing the elements of the list based on mathematical expressions\n",
    "print(f\"n-th element of frcList[] is {frcList[]}\")"
   ]
  },
  {
   "cell_type": "code",
   "execution_count": 15,
   "metadata": {},
   "outputs": [
    {
     "name": "stdout",
     "output_type": "stream",
     "text": [
      "elements of frcList[] (last index exclusive) : \n",
      "6.131\n",
      "2.3141\n",
      "0.0001\n",
      "0.23411\n",
      "26771000000.0\n",
      "\n",
      "elements of frcList[] (last index inclusive) : \n",
      "6.131\n",
      "2.3141\n",
      "0.0001\n",
      "0.23411\n",
      "26771000000.0\n",
      "-0.0451\n",
      "\n",
      "elements of frcList[] : \n",
      "6.131\n",
      "2.3141\n",
      "0.0001\n",
      "0.23411\n",
      "26771000000.0\n",
      "-0.0451\n",
      "\n",
      "elements at even indexes in frcList[] : \n",
      "6.131\n",
      "0.0001\n",
      "26771000000.0\n"
     ]
    }
   ],
   "source": [
    "# Iterating over the list using for loop - last index exclusive\n",
    "print(\"elements of frcList[] (last index exclusive) : \")\n",
    "for i in range(0, 5):\n",
    "    print(frcList[i])\n",
    "\n",
    "print()\n",
    "\n",
    "# Iterating over the list using for loop - last index inclusive\n",
    "print(\"elements of frcList[] (last index inclusive) : \")\n",
    "for i in range(0, 6):\n",
    "    print(frcList[i])\n",
    "    \n",
    "print()\n",
    "\n",
    "# Alternative approach to iterating over the list using for loop\n",
    "print(\"elements of frcList[] : \")\n",
    "for i in frcList:\n",
    "    print(i)\n",
    "\n",
    "print()\n",
    "\n",
    "# Printing the elements at even positions in frcList[]\n",
    "print(\"elements at even indexes in frcList[] : \")\n",
    "for i in range(0, 6):\n",
    "    if (i % 2 == 0):\n",
    "        print(frcList[i])"
   ]
  },
  {
   "cell_type": "code",
   "execution_count": 18,
   "metadata": {},
   "outputs": [
    {
     "name": "stdout",
     "output_type": "stream",
     "text": [
      "iterating over mixList[] using while loop (start -> end) : \n",
      "6.131\n",
      "2.3141\n",
      "0.0001\n",
      "0.23411\n",
      "26771000000.0\n",
      "-0.0451\n",
      "\n",
      "iterating over mixList[] using while loop (end -> start) : \n",
      "-0.0451\n",
      "26771000000.0\n",
      "0.23411\n",
      "0.0001\n",
      "2.3141\n",
      "6.131\n",
      "\n"
     ]
    }
   ],
   "source": [
    "# Iterating over the list from start to end using while loop\n",
    "print(\"iterating over mixList[] using while loop (start -> end) : \")\n",
    "i = 0\n",
    "while (i < 6):\n",
    "    print(frcList[i])\n",
    "    i += 1\n",
    "    \n",
    "print()\n",
    "\n",
    "# Iterating over the list from end to start using while loop\n",
    "print(\"iterating over mixList[] using while loop (end -> start) : \")\n",
    "i = 5\n",
    "while (i >= 0):\n",
    "    print(frcList[i])\n",
    "    i -= 1\n",
    "    \n",
    "print()"
   ]
  },
  {
   "cell_type": "markdown",
   "metadata": {},
   "source": [
    "data types of list elements vs data type of list"
   ]
  },
  {
   "cell_type": "code",
   "execution_count": 24,
   "metadata": {},
   "outputs": [
    {
     "name": "stdout",
     "output_type": "stream",
     "text": [
      "number list data type : <class 'list'>\n",
      "string list data type : <class 'list'>\n",
      "fraction list data type : <class 'list'>\n",
      "mixed elements list data type : <class 'list'>\n",
      "\n",
      "numList[0] data type : <class 'int'>\n",
      "strList[-1] data type : <class 'str'>\n",
      "frcList[3] data type : <class 'float'>\n",
      "mixList[0] data type : <class 'int'>\n",
      "mixList[-1] data type : <class 'bool'>\n",
      "mixList[-2] data type : <class 'str'>\n"
     ]
    }
   ],
   "source": [
    "# Data types of list\n",
    "print(f\"number list data type : {type(numList)}\")\n",
    "print(f\"string list data type : {type(strList)}\")\n",
    "print(f\"fraction list data type : {type(frcList)}\")\n",
    "print(f\"mixed elements list data type : {type(mixList)}\")\n",
    "\n",
    "print()\n",
    "\n",
    "# Data types of elements inside list\n",
    "print(f\"numList[0] data type : {type(numList[0])}\")\n",
    "print(f\"strList[-1] data type : {type(strList[-1])}\")\n",
    "print(f\"frcList[3] data type : {type(frcList[3])}\")\n",
    "print(f\"mixList[0] data type : {type(mixList[0])}\")\n",
    "print(f\"mixList[-1] data type : {type(mixList[-1])}\")\n",
    "print(f\"mixList[-2] data type : {type(mixList[-2])}\")"
   ]
  },
  {
   "cell_type": "markdown",
   "metadata": {},
   "source": [
    "#### Length Of The List"
   ]
  },
  {
   "cell_type": "code",
   "execution_count": 30,
   "metadata": {},
   "outputs": [
    {
     "name": "stdout",
     "output_type": "stream",
     "text": [
      "length of numList : 6\n",
      "length of mixList : 6\n",
      "\n",
      "strList[-1] : True\n",
      "mixList[-2] : world\n",
      "\n",
      "elements of frcList[] (start -> end) : \n",
      "6.131\n",
      "2.3141\n",
      "0.0001\n",
      "0.23411\n",
      "26771000000.0\n",
      "-0.0451\n",
      "\n",
      "elements of mixList (end -> start) : \n",
      "True\n",
      "world\n",
      "hello\n",
      "452.31\n",
      "1.122\n",
      "12\n"
     ]
    }
   ],
   "source": [
    "# Print the length of the list\n",
    "print(f\"length of numList : {len(numList)}\")\n",
    "print(f\"length of mixList : {len(mixList)}\")\n",
    "\n",
    "print()\n",
    "\n",
    "# Accessing elements of the list using the length \n",
    "print(f\"strList[-1] : {mixList[len(strList) - 1]}\")\n",
    "print(f\"mixList[-2] : {mixList[len(mixList) - 2]}\")\n",
    "\n",
    "print()\n",
    "\n",
    "# Iterating over the list using the length (for-loop)\n",
    "print(\"elements of frcList[] (start -> end) : \")\n",
    "for i in range(0, len(frcList)): \n",
    "    print(frcList[i])\n",
    "\n",
    "print() \n",
    "\n",
    "# Iterating over the list using the length (while-loop)\n",
    "print(\"elements of mixList (end -> start) : \")\n",
    "i = len(mixList) - 1\n",
    "while i >= 0:\n",
    "    print(mixList[i])\n",
    "    i -= 1"
   ]
  },
  {
   "cell_type": "markdown",
   "metadata": {},
   "source": [
    "### List Manipulations\n",
    "\n",
    "- Modifying The List Items\n",
    "- Adding Items To The List\n",
    "- Removing Items From The List\n",
    "- More Operations On Lists\n",
    "    - clear()\n",
    "    - reverse()\n",
    "    - sort()\n",
    "    - count()\n",
    "- Slicing A List"
   ]
  },
  {
   "cell_type": "markdown",
   "metadata": {},
   "source": [
    "#### Modifying The List Items"
   ]
  },
  {
   "cell_type": "code",
   "execution_count": 68,
   "metadata": {},
   "outputs": [
    {
     "name": "stdout",
     "output_type": "stream",
     "text": [
      "nunmList[]\n",
      "[1, 2, 3, 10, -89, 4]\n",
      "\n",
      "strList[]\n",
      "['hello', 'world', 'welcome', 'to', 'Python', 'Programming']\n",
      "\n",
      "numList[]\n",
      "[234, 2, 3, 10, -89, 4]\n",
      "\n",
      "strList[]\n",
      "['hello', 'world', 'welcome', 'to', 'Python', 'modified']\n",
      "\n",
      "numList[] (current list)\n",
      "[234, 2, 3, 10, -89, 4]\n",
      "\n",
      "numList[] (modified 2nd last index)\n",
      "[234, 2, 3, 10, 126, 4]\n",
      "\n",
      "strList[] (current list)\n",
      "['hello', 'world', 'welcome', 'to', 'Python', 'modified']\n",
      "\n",
      "strList[] (modified last index)\n",
      "['hello', 'world', 'welcome', 'to', 'Python', 'modified hello!']\n",
      "\n",
      "dumbList[]\n",
      "['good', 'boy', 34.115, -45, False, 'a']\n",
      "\n",
      "dumbList[] TYPE : <class 'NoneType'>\n",
      "None\n",
      "\n"
     ]
    }
   ],
   "source": [
    "print(f\"nunmList[]\\n{numList}\\n\")\n",
    "print(f\"strList[]\\n{strList}\\n\")\n",
    "\n",
    "# Modifying the first entry of numList[] and last entry of strList[]\n",
    "numList[0] = 234\n",
    "strList[-1] = \"modified\"\n",
    "\n",
    "print(f\"numList[]\\n{numList}\\n\")\n",
    "print(f\"strList[]\\n{strList}\\n\")\n",
    "\n",
    "\n",
    "print(f\"numList[] (current list)\\n{numList}\\n\")\n",
    "\n",
    "# Updating the list value by mathematical expression\n",
    "numList[-2] = (numList[0] * 2) - 345 + numList[2]\n",
    "\n",
    "print(f\"numList[] (modified 2nd last index)\\n{numList}\\n\")\n",
    "\n",
    "\n",
    "print(f\"strList[] (current list)\\n{strList}\\n\")\n",
    "\n",
    "# Updating the list value by concatenation\n",
    "strList[-1] = strList[-1] + ' ' + strList[0] + '!'\n",
    "\n",
    "print(f\"strList[] (modified last index)\\n{strList}\\n\")\n",
    "\n",
    "\n",
    "print(f\"dumbList[]\\n{dumbList_2}\\n\")\n",
    "\n",
    "# Setting elements of dumbList_2 to None\n",
    "dumbList_2 = None\n",
    "print(f\"dumbList[] TYPE : {type(dumbList_2)}\\n{dumbList_2}\\n\")"
   ]
  },
  {
   "cell_type": "markdown",
   "metadata": {},
   "source": [
    "#### Adding Items To The List"
   ]
  },
  {
   "cell_type": "markdown",
   "metadata": {},
   "source": [
    "Adding items to the end of the list - _append()_"
   ]
  },
  {
   "cell_type": "code",
   "execution_count": 69,
   "metadata": {},
   "outputs": [
    {
     "name": "stdout",
     "output_type": "stream",
     "text": [
      "INPUT\n",
      "-----\n",
      "numList[]\n",
      "[234, 2, 3, 10, 126, 4]\n",
      "\n",
      "strList[]\n",
      "['hello', 'world', 'welcome', 'to', 'Python', 'modified hello!']\n",
      "\n",
      "OUTPUT\n",
      "------\n",
      "numList[]\n",
      "[234, 2, 3, 10, 126, 4, 999]\n",
      "\n",
      "strList[]\n",
      "['hello', 'world', 'welcome', 'to', 'Python', 'modified hello!', 'last']\n",
      "\n"
     ]
    }
   ],
   "source": [
    "print(\"INPUT\")\n",
    "print(\"-\" * 5)\n",
    "print(f\"numList[]\\n{numList}\\n\")\n",
    "print(f\"strList[]\\n{strList}\\n\")\n",
    "\n",
    "# Adding an item to the end of the list (append)\n",
    "numList.append(999)\n",
    "strList.append(\"last\")\n",
    "\n",
    "print(\"OUTPUT\")\n",
    "print(\"-\" * 6)\n",
    "print(f\"numList[]\\n{numList}\\n\")\n",
    "print(f\"strList[]\\n{strList}\\n\")"
   ]
  },
  {
   "cell_type": "markdown",
   "metadata": {},
   "source": [
    "Adding element **x** at position **i** in the list - _insert(i,x)_"
   ]
  },
  {
   "cell_type": "code",
   "execution_count": 70,
   "metadata": {},
   "outputs": [
    {
     "name": "stdout",
     "output_type": "stream",
     "text": [
      "INPUT\n",
      "-----\n",
      "numList[]\n",
      "[234, 2, 3, 10, 126, 4, 999]\n",
      "\n",
      "strList[]\n",
      "['hello', 'world', 'welcome', 'to', 'Python', 'modified hello!', 'last']\n",
      "\n",
      "OUTPUT\n",
      "------\n",
      "numList[]\n",
      "[234, -111, 2, 3, 10, 126, 4, 999]\n",
      "\n",
      "strList[]\n",
      "['hello', 'first', 'world', 'welcome', 'to', 'Python', 'modified hello!', 'last']\n",
      "\n"
     ]
    }
   ],
   "source": [
    "print(\"INPUT\")\n",
    "print(\"-\" * 5)\n",
    "print(f\"numList[]\\n{numList}\\n\")\n",
    "print(f\"strList[]\\n{strList}\\n\")\n",
    "\n",
    "# Adding item to list at index i=1 (insertion at index 0)\n",
    "numList.insert(1, -111)\n",
    "strList.insert(1, \"first\")\n",
    "\n",
    "print(\"OUTPUT\")\n",
    "print(\"-\" * 6)\n",
    "print(f\"numList[]\\n{numList}\\n\")\n",
    "print(f\"strList[]\\n{strList}\\n\")"
   ]
  },
  {
   "cell_type": "code",
   "execution_count": 71,
   "metadata": {},
   "outputs": [
    {
     "name": "stdout",
     "output_type": "stream",
     "text": [
      "INPUT\n",
      "-----\n",
      "numList[]\n",
      "[234, -111, 2, 3, 10, 126, 4, 999]\n",
      "\n",
      "strList[]\n",
      "['hello', 'first', 'world', 'welcome', 'to', 'Python', 'modified hello!', 'last']\n",
      "\n",
      "OUTPUT\n",
      "------\n",
      "numList[]\n",
      "[234, -111, 2, 3, 444, 10, 126, 4, 999]\n",
      "\n",
      "strList[]\n",
      "['hello', 'first', 'world', 'welcome', 'foursquare', 'to', 'Python', 'modified hello!', 'last']\n",
      "\n"
     ]
    }
   ],
   "source": [
    "print(\"INPUT\")\n",
    "print(\"-\" * 5)\n",
    "print(f\"numList[]\\n{numList}\\n\")\n",
    "print(f\"strList[]\\n{strList}\\n\")\n",
    "\n",
    "# Adding item to list at index k=4 (insertion at index 3)\n",
    "numList.insert(4, 444)\n",
    "strList.insert(4, \"foursquare\")\n",
    "\n",
    "print(\"OUTPUT\")\n",
    "print(\"-\" * 6)\n",
    "print(f\"numList[]\\n{numList}\\n\")\n",
    "print(f\"strList[]\\n{strList}\\n\")"
   ]
  },
  {
   "cell_type": "code",
   "execution_count": 72,
   "metadata": {},
   "outputs": [
    {
     "name": "stdout",
     "output_type": "stream",
     "text": [
      "INPUT\n",
      "-----\n",
      "numList[]\n",
      "[234, -111, 2, 3, 444, 10, 126, 4, 999]\n",
      "\n",
      "strList[]\n",
      "['hello', 'first', 'world', 'welcome', 'foursquare', 'to', 'Python', 'modified hello!', 'last']\n",
      "\n",
      "OUTPUT\n",
      "------\n",
      "numList[]\n",
      "[234, -111, 2, 3, 444, 10, 126, 4, -2, 999]\n",
      "\n",
      "strList[]\n",
      "['hello', 'first', 'world', 'welcome', 'foursquare', 'to', 'Python', 'modified hello!', 'secondlast', 'last']\n",
      "\n"
     ]
    }
   ],
   "source": [
    "print(\"INPUT\")\n",
    "print(\"-\" * 5)\n",
    "print(f\"numList[]\\n{numList}\\n\")\n",
    "print(f\"strList[]\\n{strList}\\n\")\n",
    "\n",
    "# Adding item to second last position\n",
    "numList.insert(-1, -2)\n",
    "strList.insert(-1, \"secondlast\")\n",
    "\n",
    "print(\"OUTPUT\")\n",
    "print(\"-\" * 6)\n",
    "print(f\"numList[]\\n{numList}\\n\")\n",
    "print(f\"strList[]\\n{strList}\\n\")"
   ]
  },
  {
   "cell_type": "code",
   "execution_count": 73,
   "metadata": {},
   "outputs": [
    {
     "name": "stdout",
     "output_type": "stream",
     "text": [
      "INPUT\n",
      "-----\n",
      "numList[]\n",
      "[234, -111, 2, 3, 444, 10, 126, 4, -2, 999]\n",
      "\n",
      "strList[]\n",
      "['hello', 'first', 'world', 'welcome', 'foursquare', 'to', 'Python', 'modified hello!', 'secondlast', 'last']\n",
      "\n",
      "OUTPUT\n",
      "------\n",
      "numList[]\n",
      "[234, -111, 2, 3, 444, 10, 126, 4, -2, 999, 666]\n",
      "\n",
      "strList[]\n",
      "['hello', 'first', 'world', 'welcome', 'foursquare', 'to', 'Python', 'modified hello!', 'secondlast', 'last', '#FFF']\n",
      "\n"
     ]
    }
   ],
   "source": [
    "print(\"INPUT\")\n",
    "print(\"-\" * 5)\n",
    "print(f\"numList[]\\n{numList}\\n\")\n",
    "print(f\"strList[]\\n{strList}\\n\")\n",
    "\n",
    "# Adding item to last position by insert()\n",
    "numList.insert(len(numList), 666)\n",
    "strList.insert(len(strList), \"#FFF\")\n",
    "\n",
    "print(\"OUTPUT\")\n",
    "print(\"-\" * 6)\n",
    "print(f\"numList[]\\n{numList}\\n\")\n",
    "print(f\"strList[]\\n{strList}\\n\")"
   ]
  },
  {
   "cell_type": "markdown",
   "metadata": {},
   "source": [
    "An interesting outcome"
   ]
  },
  {
   "cell_type": "code",
   "execution_count": 74,
   "metadata": {},
   "outputs": [
    {
     "name": "stdout",
     "output_type": "stream",
     "text": [
      "11\n",
      "[234, -111, 2, 3, 444, 10, 126, 4, -2, 999, 666]\n"
     ]
    }
   ],
   "source": [
    "print(len(numList))\n",
    "print(numList)"
   ]
  },
  {
   "cell_type": "code",
   "execution_count": 75,
   "metadata": {},
   "outputs": [
    {
     "name": "stdout",
     "output_type": "stream",
     "text": [
      "[234, -111, 2, 3, 444, 10, 126, 4, -2, 999, 666, 101]\n"
     ]
    }
   ],
   "source": [
    "# Insert at a new last index\n",
    "numList.insert(11, 101)\n",
    "print(numList)"
   ]
  },
  {
   "cell_type": "code",
   "execution_count": 76,
   "metadata": {},
   "outputs": [
    {
     "name": "stdout",
     "output_type": "stream",
     "text": [
      "[234, -111, 2, 3, 444, 10, 126, 4, -2, 999, 666, 101, 1500]\n"
     ]
    }
   ],
   "source": [
    "# Insert at another new last index\n",
    "numList.insert(15, 1500)\n",
    "print(numList)"
   ]
  },
  {
   "cell_type": "code",
   "execution_count": 77,
   "metadata": {},
   "outputs": [
    {
     "name": "stdout",
     "output_type": "stream",
     "text": [
      "13\n",
      "[234, -111, 2, 3, 444, 10, 126, 4, -2, 999, 666, 101, 1500]\n"
     ]
    }
   ],
   "source": [
    "print(len(numList))\n",
    "print(numList)"
   ]
  },
  {
   "cell_type": "code",
   "execution_count": 78,
   "metadata": {},
   "outputs": [
    {
     "name": "stdout",
     "output_type": "stream",
     "text": [
      "[-1300, 234, -111, 2, 3, 444, 10, 126, 4, -2, 999, 666, 101, 1500]\n"
     ]
    }
   ],
   "source": [
    "# Insert at start index\n",
    "numList.insert(-13, -1300)\n",
    "print(numList)"
   ]
  },
  {
   "cell_type": "code",
   "execution_count": 79,
   "metadata": {},
   "outputs": [
    {
     "name": "stdout",
     "output_type": "stream",
     "text": [
      "[-1800, -1300, 234, -111, 2, 3, 444, 10, 126, 4, -2, 999, 666, 101, 1500]\n"
     ]
    }
   ],
   "source": [
    "# Insert at new start index\n",
    "numList.insert(-18, -1800)\n",
    "print(numList)"
   ]
  },
  {
   "cell_type": "code",
   "execution_count": 80,
   "metadata": {},
   "outputs": [
    {
     "name": "stdout",
     "output_type": "stream",
     "text": [
      "15\n",
      "[-1800, -1300, 234, -111, 2, 3, 444, 10, 126, 4, -2, 999, 666, 101, 1500]\n"
     ]
    }
   ],
   "source": [
    "print(len(numList))\n",
    "print(numList)"
   ]
  },
  {
   "cell_type": "markdown",
   "metadata": {},
   "source": [
    "#### Removing Items From The List"
   ]
  },
  {
   "cell_type": "markdown",
   "metadata": {},
   "source": [
    "Removing item **x** from the list _remove(x)_"
   ]
  },
  {
   "cell_type": "code",
   "execution_count": 81,
   "metadata": {},
   "outputs": [
    {
     "name": "stdout",
     "output_type": "stream",
     "text": [
      "strList[]\n",
      "['hello', 'first', 'world', 'welcome', 'foursquare', 'to', 'Python', 'modified hello!', 'secondlast', 'last', '#FFF']\n",
      "\n",
      "strList[]\n",
      "['first', 'world', 'welcome', 'foursquare', 'to', 'Python', 'modified hello!', 'secondlast', 'last', '#FFF']\n",
      "\n",
      "strList[]\n",
      "['first', 'world', 'welcome', 'foursquare', 'to', 'Python', 'secondlast', 'last', '#FFF']\n",
      "\n"
     ]
    }
   ],
   "source": [
    "print(f\"strList[]\\n{strList}\\n\")\n",
    "\n",
    "# Remove the item \"hello\" from the list\n",
    "strList.remove(\"hello\")\n",
    "print(f\"strList[]\\n{strList}\\n\")\n",
    "\n",
    "# Remove the item \"modified hello!\" from the list\n",
    "strList.remove(\"modified hello!\")\n",
    "print(f\"strList[]\\n{strList}\\n\")"
   ]
  },
  {
   "cell_type": "markdown",
   "metadata": {},
   "source": [
    "Removing multiple items from the list"
   ]
  },
  {
   "cell_type": "code",
   "execution_count": 84,
   "metadata": {},
   "outputs": [
    {
     "name": "stdout",
     "output_type": "stream",
     "text": [
      "strList[]\n",
      "['first', 'world', 'welcome', 'foursquare', 'to', 'Python', 'secondlast', 'last', '#FFF']\n",
      "\n"
     ]
    }
   ],
   "source": [
    "print(f\"strList[]\\n{strList}\\n\")"
   ]
  },
  {
   "cell_type": "markdown",
   "metadata": {},
   "source": [
    "approach#1"
   ]
  },
  {
   "cell_type": "code",
   "execution_count": 85,
   "metadata": {},
   "outputs": [
    {
     "ename": "TypeError",
     "evalue": "remove() takes exactly one argument (3 given)",
     "output_type": "error",
     "traceback": [
      "\u001b[0;31m---------------------------------------------------------------------------\u001b[0m",
      "\u001b[0;31mTypeError\u001b[0m                                 Traceback (most recent call last)",
      "\u001b[0;32m<ipython-input-85-7cdae9755d75>\u001b[0m in \u001b[0;36m<module>\u001b[0;34m\u001b[0m\n\u001b[0;32m----> 1\u001b[0;31m \u001b[0mstrList\u001b[0m\u001b[0;34m.\u001b[0m\u001b[0mremove\u001b[0m\u001b[0;34m(\u001b[0m\u001b[0;34m\"first\"\u001b[0m\u001b[0;34m,\u001b[0m \u001b[0;34m\"last\"\u001b[0m\u001b[0;34m,\u001b[0m \u001b[0;34m\"foursquare\"\u001b[0m\u001b[0;34m)\u001b[0m\u001b[0;34m\u001b[0m\u001b[0;34m\u001b[0m\u001b[0m\n\u001b[0m\u001b[1;32m      2\u001b[0m \u001b[0mprint\u001b[0m\u001b[0;34m(\u001b[0m\u001b[0;34mf\"strList[]\\n{strList}\\n\"\u001b[0m\u001b[0;34m)\u001b[0m\u001b[0;34m\u001b[0m\u001b[0;34m\u001b[0m\u001b[0m\n",
      "\u001b[0;31mTypeError\u001b[0m: remove() takes exactly one argument (3 given)"
     ]
    }
   ],
   "source": [
    "strList.remove(\"first\", \"last\", \"foursquare\")\n",
    "print(f\"strList[]\\n{strList}\\n\")"
   ]
  },
  {
   "cell_type": "markdown",
   "metadata": {},
   "source": [
    "approach#2"
   ]
  },
  {
   "cell_type": "code",
   "execution_count": 86,
   "metadata": {},
   "outputs": [
    {
     "ename": "ValueError",
     "evalue": "list.remove(x): x not in list",
     "output_type": "error",
     "traceback": [
      "\u001b[0;31m---------------------------------------------------------------------------\u001b[0m",
      "\u001b[0;31mValueError\u001b[0m                                Traceback (most recent call last)",
      "\u001b[0;32m<ipython-input-86-737bd315f7c5>\u001b[0m in \u001b[0;36m<module>\u001b[0;34m\u001b[0m\n\u001b[0;32m----> 1\u001b[0;31m \u001b[0mstrList\u001b[0m\u001b[0;34m.\u001b[0m\u001b[0mremove\u001b[0m\u001b[0;34m(\u001b[0m\u001b[0;34m[\u001b[0m\u001b[0;34m\"first\"\u001b[0m\u001b[0;34m,\u001b[0m \u001b[0;34m\"second\"\u001b[0m\u001b[0;34m,\u001b[0m \u001b[0;34m\"foursquare\"\u001b[0m\u001b[0;34m]\u001b[0m\u001b[0;34m)\u001b[0m\u001b[0;34m\u001b[0m\u001b[0;34m\u001b[0m\u001b[0m\n\u001b[0m\u001b[1;32m      2\u001b[0m \u001b[0mprint\u001b[0m\u001b[0;34m(\u001b[0m\u001b[0;34mf\"strList[]\\n{strList}\\n\"\u001b[0m\u001b[0;34m)\u001b[0m\u001b[0;34m\u001b[0m\u001b[0;34m\u001b[0m\u001b[0m\n",
      "\u001b[0;31mValueError\u001b[0m: list.remove(x): x not in list"
     ]
    }
   ],
   "source": [
    "strList.remove([\"first\", \"second\", \"foursquare\"])\n",
    "print(f\"strList[]\\n{strList}\\n\")"
   ]
  },
  {
   "cell_type": "markdown",
   "metadata": {},
   "source": [
    "correct approach"
   ]
  },
  {
   "cell_type": "code",
   "execution_count": 87,
   "metadata": {},
   "outputs": [
    {
     "name": "stdout",
     "output_type": "stream",
     "text": [
      "strList[]\n",
      "['world', 'welcome', 'to', 'Python', 'secondlast', '#FFF']\n",
      "\n"
     ]
    }
   ],
   "source": [
    "# Correct approach to remove multiple items from the list\n",
    "buffer = [\"first\", \"last\", \"foursquare\"]\n",
    "for b in buffer:\n",
    "    strList.remove(b)\n",
    "    \n",
    "print(f\"strList[]\\n{strList}\\n\")"
   ]
  },
  {
   "cell_type": "markdown",
   "metadata": {},
   "source": [
    "Popping an element from the list at index **i** and returning the element - _pop(i)_"
   ]
  },
  {
   "cell_type": "code",
   "execution_count": 88,
   "metadata": {},
   "outputs": [
    {
     "name": "stdout",
     "output_type": "stream",
     "text": [
      "numList[]\n",
      "[-1800, -1300, 234, -111, 2, 3, 444, 10, 126, 4, -2, 999, 666, 101, 1500]\n",
      "\n"
     ]
    }
   ],
   "source": [
    "print(f\"numList[]\\n{numList}\\n\")"
   ]
  },
  {
   "cell_type": "code",
   "execution_count": 89,
   "metadata": {},
   "outputs": [
    {
     "name": "stdout",
     "output_type": "stream",
     "text": [
      "pop(0) is -1800 and pop(-1) is 1500\n",
      "numList[]\n",
      "[-1300, 234, -111, 2, 3, 444, 10, 126, 4, -2, 999, 666, 101]\n",
      "\n"
     ]
    }
   ],
   "source": [
    "# Pop the element at the first and last index\n",
    "i = numList.pop(0)\n",
    "j = numList.pop(-1)\n",
    "\n",
    "print(f\"pop(0) is {i} and pop(-1) is {j}\")\n",
    "print(f\"numList[]\\n{numList}\\n\")"
   ]
  },
  {
   "cell_type": "code",
   "execution_count": 90,
   "metadata": {},
   "outputs": [
    {
     "name": "stdout",
     "output_type": "stream",
     "text": [
      "numList[]\n",
      "[-1300, 234, -111, 2, 3, 444, 10, 126, 4, -2, 999, 666, 101]\n",
      "\n",
      "pop(5) is 444\n",
      "numList[]\n",
      "[-1300, 234, -111, 2, 3, 10, 126, 4, -2, 999, 666, 101]\n",
      "\n"
     ]
    }
   ],
   "source": [
    "print(f\"numList[]\\n{numList}\\n\")\n",
    "\n",
    "# Pop the n-th element from the list (n=6 ie. index 5)\n",
    "k = numList.pop(5)\n",
    "print(f\"pop(5) is {k}\")\n",
    "print(f\"numList[]\\n{numList}\\n\")"
   ]
  },
  {
   "cell_type": "markdown",
   "metadata": {},
   "source": [
    "Popping multiple items from list"
   ]
  },
  {
   "cell_type": "code",
   "execution_count": 94,
   "metadata": {},
   "outputs": [
    {
     "name": "stdout",
     "output_type": "stream",
     "text": [
      "numList[]\n",
      "[-1300, 234, -111, 2, 3, 10, 126, 4, -2, 999, 666, 101]\n",
      "\n"
     ]
    }
   ],
   "source": [
    "print(f\"numList[]\\n{numList}\\n\")"
   ]
  },
  {
   "cell_type": "markdown",
   "metadata": {},
   "source": [
    "approach#1"
   ]
  },
  {
   "cell_type": "code",
   "execution_count": 92,
   "metadata": {},
   "outputs": [
    {
     "name": "stdout",
     "output_type": "stream",
     "text": [
      "numList[]\n",
      "[-1300, 234, -111, 2, 3, 10, 126, 4, -2, 999, 666, 101]\n",
      "\n"
     ]
    },
    {
     "ename": "TypeError",
     "evalue": "pop() takes at most 1 argument (3 given)",
     "output_type": "error",
     "traceback": [
      "\u001b[0;31m---------------------------------------------------------------------------\u001b[0m",
      "\u001b[0;31mTypeError\u001b[0m                                 Traceback (most recent call last)",
      "\u001b[0;32m<ipython-input-92-a31a38240c4b>\u001b[0m in \u001b[0;36m<module>\u001b[0;34m\u001b[0m\n\u001b[1;32m      2\u001b[0m \u001b[0;34m\u001b[0m\u001b[0m\n\u001b[1;32m      3\u001b[0m \u001b[0;31m# Pop the first, last and second last elements from the list\u001b[0m\u001b[0;34m\u001b[0m\u001b[0;34m\u001b[0m\u001b[0;34m\u001b[0m\u001b[0m\n\u001b[0;32m----> 4\u001b[0;31m \u001b[0mi\u001b[0m\u001b[0;34m,\u001b[0m \u001b[0mj\u001b[0m\u001b[0;34m,\u001b[0m \u001b[0mk\u001b[0m \u001b[0;34m=\u001b[0m \u001b[0mnumList\u001b[0m\u001b[0;34m.\u001b[0m\u001b[0mpop\u001b[0m\u001b[0;34m(\u001b[0m\u001b[0;36m0\u001b[0m\u001b[0;34m,\u001b[0m \u001b[0;34m-\u001b[0m\u001b[0;36m1\u001b[0m\u001b[0;34m,\u001b[0m \u001b[0;34m-\u001b[0m\u001b[0;36m2\u001b[0m\u001b[0;34m)\u001b[0m\u001b[0;34m\u001b[0m\u001b[0;34m\u001b[0m\u001b[0m\n\u001b[0m\u001b[1;32m      5\u001b[0m \u001b[0;34m\u001b[0m\u001b[0m\n\u001b[1;32m      6\u001b[0m \u001b[0mprint\u001b[0m\u001b[0;34m(\u001b[0m\u001b[0;34m)\u001b[0m\u001b[0;34m\u001b[0m\u001b[0;34m\u001b[0m\u001b[0m\n",
      "\u001b[0;31mTypeError\u001b[0m: pop() takes at most 1 argument (3 given)"
     ]
    }
   ],
   "source": [
    "# Pop the first, last and second last elements from the list\n",
    "i, j, k = numList.pop(0, -1, -2)\n",
    "\n",
    "print()\n",
    "print(f\"pop(0) : {i}, pop(-1) : {j}, pop(-2) : {k}\")\n",
    "print(f\"numList[]\\n{numList}\\n\")"
   ]
  },
  {
   "cell_type": "markdown",
   "metadata": {},
   "source": [
    "approach#2"
   ]
  },
  {
   "cell_type": "code",
   "execution_count": 93,
   "metadata": {},
   "outputs": [
    {
     "name": "stdout",
     "output_type": "stream",
     "text": [
      "numList[]\n",
      "[-1300, 234, -111, 2, 3, 10, 126, 4, -2, 999, 666, 101]\n",
      "\n"
     ]
    },
    {
     "ename": "TypeError",
     "evalue": "'list' object cannot be interpreted as an integer",
     "output_type": "error",
     "traceback": [
      "\u001b[0;31m---------------------------------------------------------------------------\u001b[0m",
      "\u001b[0;31mTypeError\u001b[0m                                 Traceback (most recent call last)",
      "\u001b[0;32m<ipython-input-93-12635ed60224>\u001b[0m in \u001b[0;36m<module>\u001b[0;34m\u001b[0m\n\u001b[1;32m      2\u001b[0m \u001b[0;34m\u001b[0m\u001b[0m\n\u001b[1;32m      3\u001b[0m \u001b[0;31m# Pop the first, last and second last elements from the list\u001b[0m\u001b[0;34m\u001b[0m\u001b[0;34m\u001b[0m\u001b[0;34m\u001b[0m\u001b[0m\n\u001b[0;32m----> 4\u001b[0;31m \u001b[0mi\u001b[0m\u001b[0;34m,\u001b[0m \u001b[0mj\u001b[0m\u001b[0;34m,\u001b[0m \u001b[0mk\u001b[0m \u001b[0;34m=\u001b[0m \u001b[0mnumList\u001b[0m\u001b[0;34m.\u001b[0m\u001b[0mpop\u001b[0m\u001b[0;34m(\u001b[0m\u001b[0;34m[\u001b[0m\u001b[0;36m0\u001b[0m\u001b[0;34m,\u001b[0m \u001b[0;34m-\u001b[0m\u001b[0;36m1\u001b[0m\u001b[0;34m,\u001b[0m \u001b[0;34m-\u001b[0m\u001b[0;36m2\u001b[0m\u001b[0;34m]\u001b[0m\u001b[0;34m)\u001b[0m\u001b[0;34m\u001b[0m\u001b[0;34m\u001b[0m\u001b[0m\n\u001b[0m\u001b[1;32m      5\u001b[0m \u001b[0;34m\u001b[0m\u001b[0m\n\u001b[1;32m      6\u001b[0m \u001b[0mprint\u001b[0m\u001b[0;34m(\u001b[0m\u001b[0;34m)\u001b[0m\u001b[0;34m\u001b[0m\u001b[0;34m\u001b[0m\u001b[0m\n",
      "\u001b[0;31mTypeError\u001b[0m: 'list' object cannot be interpreted as an integer"
     ]
    }
   ],
   "source": [
    "print(f\"numList[]\\n{numList}\\n\")\n",
    "\n",
    "# Pop the first, last and second last elements from the list\n",
    "i, j, k = numList.pop([0, -1, -2])\n",
    "\n",
    "print()\n",
    "print(f\"pop(0) : {i}, pop(-1) : {j}, pop(-2) : {k}\")\n",
    "print(f\"numList[]\\n{numList}\\n\")"
   ]
  },
  {
   "cell_type": "markdown",
   "metadata": {},
   "source": [
    "approach#3"
   ]
  },
  {
   "cell_type": "code",
   "execution_count": 95,
   "metadata": {},
   "outputs": [
    {
     "name": "stdout",
     "output_type": "stream",
     "text": [
      "pop(0) : -1300\n",
      "pop(-1) : 101\n",
      "pop(-2) : 999\n",
      "\n",
      "numList[]\n",
      "[234, -111, 2, 3, 10, 126, 4, -2, 666]\n",
      "\n"
     ]
    }
   ],
   "source": [
    "# Correct approach to popping multiple items from the list\n",
    "buffer = [0, -1, -2]\n",
    "for b in buffer:\n",
    "    k = numList.pop(b)\n",
    "    print(f\"pop({b}) : {k}\")\n",
    "    \n",
    "print()\n",
    "print(f\"numList[]\\n{numList}\\n\")"
   ]
  },
  {
   "cell_type": "code",
   "execution_count": 96,
   "metadata": {},
   "outputs": [
    {
     "name": "stdout",
     "output_type": "stream",
     "text": [
      "numList[]\n",
      "[234, -111, 2, 3, 10, 126, 4, -2, 666]\n",
      "\n",
      "\n",
      "pop() : 666\n",
      "numList[]\n",
      "[234, -111, 2, 3, 10, 126, 4, -2]\n",
      "\n"
     ]
    }
   ],
   "source": [
    "print(f\"numList[]\\n{numList}\\n\")\n",
    "\n",
    "# If index is not specified, pop(i) removes the last element\n",
    "k = numList.pop()\n",
    "\n",
    "print(f\"pop() : {k}\")\n",
    "print(f\"numList[]\\n{numList}\\n\")"
   ]
  },
  {
   "cell_type": "code",
   "execution_count": 97,
   "metadata": {},
   "outputs": [
    {
     "name": "stdout",
     "output_type": "stream",
     "text": [
      "numList[]\n",
      "[234, -111, 2, 3, 10, 126, 4, -2]\n",
      "\n"
     ]
    },
    {
     "ename": "IndexError",
     "evalue": "pop index out of range",
     "output_type": "error",
     "traceback": [
      "\u001b[0;31m---------------------------------------------------------------------------\u001b[0m",
      "\u001b[0;31mIndexError\u001b[0m                                Traceback (most recent call last)",
      "\u001b[0;32m<ipython-input-97-c1b44e00a830>\u001b[0m in \u001b[0;36m<module>\u001b[0;34m\u001b[0m\n\u001b[1;32m      2\u001b[0m \u001b[0;34m\u001b[0m\u001b[0m\n\u001b[1;32m      3\u001b[0m \u001b[0;31m# If index is not specified, pop(i) removes the last element\u001b[0m\u001b[0;34m\u001b[0m\u001b[0;34m\u001b[0m\u001b[0;34m\u001b[0m\u001b[0m\n\u001b[0;32m----> 4\u001b[0;31m \u001b[0mk\u001b[0m \u001b[0;34m=\u001b[0m \u001b[0mnumList\u001b[0m\u001b[0;34m.\u001b[0m\u001b[0mpop\u001b[0m\u001b[0;34m(\u001b[0m\u001b[0mlen\u001b[0m\u001b[0;34m(\u001b[0m\u001b[0mnumList\u001b[0m\u001b[0;34m)\u001b[0m\u001b[0;34m)\u001b[0m\u001b[0;34m\u001b[0m\u001b[0;34m\u001b[0m\u001b[0m\n\u001b[0m\u001b[1;32m      5\u001b[0m \u001b[0;34m\u001b[0m\u001b[0m\n\u001b[1;32m      6\u001b[0m \u001b[0mprint\u001b[0m\u001b[0;34m(\u001b[0m\u001b[0;34mf\"pop(len(numList)) : {k}\"\u001b[0m\u001b[0;34m)\u001b[0m\u001b[0;34m\u001b[0m\u001b[0;34m\u001b[0m\u001b[0m\n",
      "\u001b[0;31mIndexError\u001b[0m: pop index out of range"
     ]
    }
   ],
   "source": [
    "print(f\"numList[]\\n{numList}\\n\")\n",
    "\n",
    "# If index is out of range, it will throw an error\n",
    "k = numList.pop(len(numList))\n",
    "\n",
    "print(f\"pop(len(numList)) : {k}\")\n",
    "print(f\"numList[]\\n{numList}\\n\")"
   ]
  },
  {
   "cell_type": "markdown",
   "metadata": {},
   "source": [
    "#### clear()"
   ]
  },
  {
   "cell_type": "code",
   "execution_count": 99,
   "metadata": {},
   "outputs": [
    {
     "name": "stdout",
     "output_type": "stream",
     "text": [
      "frcList[] MEM_ADDR : 140489929050304\n",
      "[6.131, 2.3141, 0.0001, 0.23411, 26771000000.0, -0.0451]\n",
      "\n",
      "mixList[] MEM_ADDR : 140489929050224\n",
      "[12, 1.122, 452.31, 'hello', 'world', True]\n",
      "\n"
     ]
    }
   ],
   "source": [
    "print(f\"frcList[] MEM_ADDR : {id(frcList)}\\n{frcList}\\n\")\n",
    "print(f\"mixList[] MEM_ADDR : {id(mixList)}\\n{mixList}\\n\")"
   ]
  },
  {
   "cell_type": "code",
   "execution_count": 100,
   "metadata": {},
   "outputs": [
    {
     "name": "stdout",
     "output_type": "stream",
     "text": [
      "frcList[] MEM_ADDR : 140489929050304\n",
      "[]\n",
      "\n",
      "mixList[] MEM_ADDR : 140489929071744\n",
      "[]\n",
      "\n"
     ]
    }
   ],
   "source": [
    "# Clear the list using clear()\n",
    "frcList.clear()\n",
    "\n",
    "# Clear the list by assigning a new empty list\n",
    "mixList = []\n",
    "\n",
    "print(f\"frcList[] MEM_ADDR : {id(frcList)}\\n{frcList}\\n\")\n",
    "print(f\"mixList[] MEM_ADDR : {id(mixList)}\\n{mixList}\\n\")"
   ]
  },
  {
   "cell_type": "markdown",
   "metadata": {},
   "source": [
    "#### reverse()"
   ]
  },
  {
   "cell_type": "code",
   "execution_count": 105,
   "metadata": {
    "scrolled": true
   },
   "outputs": [
    {
     "name": "stdout",
     "output_type": "stream",
     "text": [
      "tempList[] MEM_ADDR : 140489929964992\n",
      "[34, 0.0434, True, 'hello', 'magical world', -91, False, None, 1]\n",
      "\n",
      "tempList[] MEM_ADDR : 140489929964992\n",
      "[1, None, False, -91, 'magical world', 'hello', True, 0.0434, 34]\n",
      "\n"
     ]
    }
   ],
   "source": [
    "tempList = [34, 4.34e-2, True, \"hello\", \"magical world\", -91, False, None, 1]\n",
    "\n",
    "print(f\"tempList[] MEM_ADDR : {id(tempList)}\\n{tempList}\\n\")\n",
    "\n",
    "# Reverse the list in-place (memory address does not change)\n",
    "tempList.reverse()\n",
    "\n",
    "# List is changed permanently\n",
    "print(f\"tempList[] MEM_ADDR : {id(tempList)}\\n{tempList}\\n\")"
   ]
  },
  {
   "cell_type": "markdown",
   "metadata": {},
   "source": [
    "#### sort()"
   ]
  },
  {
   "cell_type": "code",
   "execution_count": 110,
   "metadata": {},
   "outputs": [
    {
     "name": "stdout",
     "output_type": "stream",
     "text": [
      "tempList[]\n",
      "[89, -90, 231, -1000, 0, 55, 89, 231, 7, 13, -90, 85, 13, 5, -90, -90, 12, 56, 7, 8, 101, -90, 85, 2, 0]\n",
      "\n"
     ]
    }
   ],
   "source": [
    "tempList = [89, -90, 231, -1000, 0, 55, 89, 231, 7, 13, -90, 85, 13, 5, -90, -90, 12, 56, 7, 8, 101, -90, 85, 2, 0]\n",
    "print(f\"tempList[]\\n{tempList}\\n\")"
   ]
  },
  {
   "cell_type": "code",
   "execution_count": 111,
   "metadata": {},
   "outputs": [
    {
     "name": "stdout",
     "output_type": "stream",
     "text": [
      "tempList[] SORTED (ascending)\n",
      "[-1000, -90, -90, -90, -90, -90, 0, 0, 2, 5, 7, 7, 8, 12, 13, 13, 55, 56, 85, 85, 89, 89, 101, 231, 231]\n",
      "\n",
      "tempList[] SORTED (descending)\n",
      "[231, 231, 101, 89, 89, 85, 85, 56, 55, 13, 13, 12, 8, 7, 7, 5, 2, 0, 0, -90, -90, -90, -90, -90, -1000]\n",
      "\n"
     ]
    }
   ],
   "source": [
    "# Sort the list in-place in ascending order (default)\n",
    "tempList.sort()\n",
    "print(f\"tempList[] SORTED (ascending)\\n{tempList}\\n\")\n",
    "\n",
    "# Sort the list in-place in descending order\n",
    "tempList.sort(reverse=True)\n",
    "print(f\"tempList[] SORTED (descending)\\n{tempList}\\n\")"
   ]
  },
  {
   "cell_type": "markdown",
   "metadata": {},
   "source": [
    "#### count(x)"
   ]
  },
  {
   "cell_type": "code",
   "execution_count": 112,
   "metadata": {},
   "outputs": [
    {
     "name": "stdout",
     "output_type": "stream",
     "text": [
      "tempList[]\n",
      "[89, -90, 231, -1000, 0, 55, 89, 231, 7, 13, -90, 85, 13, 5, -90, -90, 12, 56, 7, 8, 101, -90, 85, 2, 0]\n",
      "\n"
     ]
    }
   ],
   "source": [
    "tempList = [89, -90, 231, -1000, 0, 55, 89, 231, 7, 13, -90, 85, 13, 5, -90, -90, 12, 56, 7, 8, 101, -90, 85, 2, 0]\n",
    "print(f\"tempList[]\\n{tempList}\\n\")"
   ]
  },
  {
   "cell_type": "code",
   "execution_count": 114,
   "metadata": {},
   "outputs": [
    {
     "name": "stdout",
     "output_type": "stream",
     "text": [
      "85 appears in tempList[] 2 times\n",
      "\n",
      "-90 appears in tempList[] 5 times\n",
      "89 appears in tempList[] 2 times\n",
      "5 appears in tempList[] 1 times\n"
     ]
    }
   ],
   "source": [
    "# Count the number of times 85 appears in the list\n",
    "j = tempList.count(85)\n",
    "print(f\"85 appears in tempList[] {j} times\")\n",
    "\n",
    "print()\n",
    "\n",
    "# Count the number of times -90, 89, 5 appear in the list\n",
    "keys = [-90, 89, 5]\n",
    "for key in keys:\n",
    "    print(f\"{key} appears in tempList[] {tempList.count(key)} times\")"
   ]
  },
  {
   "cell_type": "markdown",
   "metadata": {},
   "source": [
    "#### Slicing A List"
   ]
  },
  {
   "cell_type": "code",
   "execution_count": 121,
   "metadata": {},
   "outputs": [
    {
     "name": "stdout",
     "output_type": "stream",
     "text": [
      "tempList[]\n",
      "[89, -90, 231, -1000, 0, 55, 89, 231, 7, 13, -90, 85, 13, 5, -90, -90, 12, 56, 7, 8, 101, -90, 85, 2, 0]\n",
      "\n"
     ]
    }
   ],
   "source": [
    "tempList = [89, -90, 231, -1000, 0, 55, 89, 231, 7, 13, -90, 85, 13, 5, -90, -90, 12, 56, 7, 8, 101, -90, 85, 2, 0]\n",
    "print(f\"tempList[]\\n{tempList}\\n\")"
   ]
  },
  {
   "cell_type": "code",
   "execution_count": 122,
   "metadata": {},
   "outputs": [
    {
     "name": "stdout",
     "output_type": "stream",
     "text": [
      "[89, -90, 231, -1000]\n"
     ]
    }
   ],
   "source": [
    "# Slice the list from index [0,4)\n",
    "print(tempList[0:4])"
   ]
  },
  {
   "cell_type": "code",
   "execution_count": 123,
   "metadata": {},
   "outputs": [
    {
     "name": "stdout",
     "output_type": "stream",
     "text": [
      "[-1000, 0, 55, 89, 231, 7]\n"
     ]
    }
   ],
   "source": [
    "# Slice the list from index [3, 8]\n",
    "print(tempList[3:9])"
   ]
  },
  {
   "cell_type": "code",
   "execution_count": 127,
   "metadata": {},
   "outputs": [
    {
     "name": "stdout",
     "output_type": "stream",
     "text": [
      "[89, -1000, 89, 13, 13, -90, 7, -90, 0]\n"
     ]
    }
   ],
   "source": [
    "# Slice the list from index [0, 25] in steps of 3\n",
    "print(tempList[0:25:3])"
   ]
  },
  {
   "cell_type": "code",
   "execution_count": 128,
   "metadata": {},
   "outputs": [
    {
     "name": "stdout",
     "output_type": "stream",
     "text": [
      "[0, 13, -90]\n"
     ]
    }
   ],
   "source": [
    "# Slice the list from index [4, 17) in steps of 5\n",
    "print(tempList[4:17:5])"
   ]
  },
  {
   "cell_type": "code",
   "execution_count": 131,
   "metadata": {},
   "outputs": [
    {
     "name": "stdout",
     "output_type": "stream",
     "text": [
      "[]\n"
     ]
    }
   ],
   "source": [
    "# Slice the list from end starting index\n",
    "print(tempList[-1:-10])"
   ]
  },
  {
   "cell_type": "markdown",
   "metadata": {},
   "source": [
    "### List Comprehensions"
   ]
  },
  {
   "cell_type": "code",
   "execution_count": null,
   "metadata": {},
   "outputs": [],
   "source": []
  }
 ],
 "metadata": {
  "kernelspec": {
   "display_name": "Python 3",
   "language": "python",
   "name": "python3"
  },
  "language_info": {
   "codemirror_mode": {
    "name": "ipython",
    "version": 3
   },
   "file_extension": ".py",
   "mimetype": "text/x-python",
   "name": "python",
   "nbconvert_exporter": "python",
   "pygments_lexer": "ipython3",
   "version": "3.7.4"
  }
 },
 "nbformat": 4,
 "nbformat_minor": 2
}
